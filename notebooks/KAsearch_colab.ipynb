{
 "cells": [
  {
   "cell_type": "markdown",
   "id": "8d795843",
   "metadata": {
    "colab_type": "text",
    "id": "view-in-github"
   },
   "source": [
    "<a href=\"https://colab.research.google.com/github/TobiasHeOl/kasearch/blob/main/notebooks/KAsearch_colab.ipynb\" target=\"_parent\"><img src=\"https://colab.research.google.com/assets/colab-badge.svg\" alt=\"Open In Colab\"/></a>"
   ]
  },
  {
   "cell_type": "markdown",
   "id": "71eefa29-b4ee-4295-874f-fb3d396a693a",
   "metadata": {
    "id": "71eefa29-b4ee-4295-874f-fb3d396a693a"
   },
   "source": [
    "## **Quick and easy use of KA-Search**\n",
    "\n",
    "You can run a simple query on the reduced version of OAS here. This part of the notebook only allows you to run a single query at a time on a single region. For running more queries and searching for more regions simultaneously, look at using KA-Search with more configuration."
   ]
  },
  {
   "cell_type": "code",
   "execution_count": null,
   "id": "zk0aRfnoYxP0",
   "metadata": {
    "cellView": "form",
    "id": "zk0aRfnoYxP0"
   },
   "outputs": [],
   "source": [
    "#@title Input query sequence, then hit `Runtime` -> `Run all`\n",
    "import sys\n",
    "python_version = f\"{sys.version_info.major}.{sys.version_info.minor}\"\n",
    "\n",
    "#@markdown Insert the query sequence. The sequence should be either the heavy or light chain of an antibody variable domain.\n",
    "\n",
    "query_sequence = 'QVKLQESGAELARPGASVKLSCKASGYTFTNYWMQWVKQRPGQGLDWIGAIYPGDGNTRYTHKFKGKATLTADKSSSTAYMQLSSLASEDSGVYYCARGEGNYAWFAYWGQGTTVTVSS' #@param {type:\"string\"}\n",
    "\n",
    "#@markdown Select what region you want to search by and whether to restrict the search to antibodies with the same number of amino acids in the selected region. \n",
    "\n",
    "search_by = \"whole\" #@param [\"whole\", \"cdrs\", \"cdr3\"]\n",
    "length_matched = False #@param {type:\"boolean\"}\n",
    "\n",
    "#@markdown Restrict what species to search by.\n",
    "\n",
    "species = \"Any\" #@param [\"Human\", \"Mouse\", \"Any\"]\n",
    "\n",
    "#@markdown Choose how many closest matches to retrieve (there are not many CPUs on colab so this will affect runtime)\n",
    "\n",
    "n_sequences = 100 #@param {type:\"integer\"}"
   ]
  },
  {
   "cell_type": "code",
   "execution_count": null,
   "id": "8Iv3BeGaY0qQ",
   "metadata": {
    "cellView": "form",
    "id": "8Iv3BeGaY0qQ"
   },
   "outputs": [],
   "source": [
    "#@title Install dependencies\n",
    "%%capture\n",
    "%%bash -s $python_version\n",
    "\n",
    "#@markdown This script will download and install the KA-Search code and ANARCI\n",
    "\n",
    "PYTHON_VERSION=$1\n",
    "set -e\n",
    "\n",
    "\n",
    "# setup conda\n",
    "if [ ! -f CONDA_READY ]; then\n",
    "  wget -qnc https://repo.anaconda.com/miniconda/Miniconda3-latest-Linux-x86_64.sh\n",
    "  bash Miniconda3-latest-Linux-x86_64.sh -bfp /usr/local 2>&1 1>/dev/null\n",
    "  rm Miniconda3-latest-Linux-x86_64.sh\n",
    "  touch CONDA_READY\n",
    "fi\n",
    "\n",
    "# setup anarci\n",
    "if [ ! -f ANARCI_READY ]; then\n",
    "  conda install -y -q -c bioconda anarci python=\"${PYTHON_VERSION}\" 2>&1 1>/dev/null\n",
    "  touch ANARCI_READY\n",
    "fi\n",
    "\n",
    "# setup kasearch\n",
    "if [ ! -f CODE_READY ]; then\n",
    "  # install dependencies\n",
    "  pip install kasearch 2>&1 1>/dev/null --root-user-action=ignore\n",
    "  touch CODE_READY\n",
    "fi"
   ]
  },
  {
   "cell_type": "code",
   "execution_count": null,
   "id": "wL9Pa7g3PTsf",
   "metadata": {
    "cellView": "form",
    "id": "wL9Pa7g3PTsf"
   },
   "outputs": [],
   "source": [
    "#@title Download database\n",
    "%%bash\n",
    "\n",
    "if [ ! -f DATA_READY ]; then\n",
    "  # install dependencies\n",
    "  wget -qnc \"https://zenodo.org/record/7384311/files/oas-aligned-tiny.tar\" -O small_OAS.tar\n",
    "  tar -xf small_OAS.tar\n",
    "  touch DATA_READY\n",
    "fi"
   ]
  },
  {
   "cell_type": "code",
   "execution_count": null,
   "id": "f8259154-2026-492e-9734-f6634ff121a6",
   "metadata": {
    "cellView": "form",
    "colab": {
     "base_uri": "https://localhost:8080/",
     "height": 627
    },
    "id": "f8259154-2026-492e-9734-f6634ff121a6",
    "outputId": "e5e7cf1f-f576-45c9-f3b6-ab2b35e2521f"
   },
   "outputs": [],
   "source": [
    "#@title Search the database\n",
    "\n",
    "#@markdown This will take a few minutes\n",
    "if f\"/usr/local/lib/python{python_version}/site-packages/\" not in sys.path:\n",
    "    sys.path.insert(0, f\"/usr/local/lib/python{python_version}/site-packages/\")\n",
    "\n",
    "from kasearch import EasySearch\n",
    "\n",
    "results = EasySearch(query_sequence,                              # Single sequence to search\n",
    "               keep_best_n=n_sequences,                           # Number of closest matches to return\n",
    "               database_path='oas-aligned-tiny',                  # Database to search\n",
    "               allowed_chain='Any',                               # Chains to search, either 'Heavy', 'Light' or 'Any'\n",
    "               allowed_species=species,                           # Species to search\n",
    "               regions=[search_by],                               # Region to search, either 'whole', 'cdrs', 'cdr3' or a user-specified region\n",
    "               length_matched=[length_matched],                   # To search only for sequences with a matched length or any length\n",
    "              )\n",
    "\n",
    "results"
   ]
  },
  {
   "cell_type": "code",
   "execution_count": null,
   "id": "xkXpZdk7b9Li",
   "metadata": {
    "cellView": "form",
    "colab": {
     "base_uri": "https://localhost:8080/",
     "height": 17
    },
    "id": "xkXpZdk7b9Li",
    "outputId": "56dcc485-1f97-4386-ca64-0b6ea0cca47f"
   },
   "outputs": [],
   "source": [
    "#@title Download results\n",
    "#@markdown If you are having issues downloading the result archive, try disabling your adblocker and run this cell again. If that fails click on the little folder icon to the left, navigate to file: `KA_search_output.csv`, right-click and select \\\"Download\\\".\n",
    "\n",
    "from google.colab import files\n",
    "\n",
    "results.to_csv(\"KA_search_output.csv\", index = False)\n",
    "files.download(\"KA_search_output.csv\")"
   ]
  },
  {
   "cell_type": "markdown",
   "id": "80a3a137-e247-4024-9682-b62ebde3acbb",
   "metadata": {
    "id": "80a3a137-e247-4024-9682-b62ebde3acbb"
   },
   "source": [
    "------------------\n",
    "# **KA-Search with more configuration**"
   ]
  },
  {
   "cell_type": "code",
   "execution_count": 1,
   "id": "b974ce8a-61d0-447f-8901-bc984d80fcd5",
   "metadata": {
    "id": "b974ce8a-61d0-447f-8901-bc984d80fcd5"
   },
   "outputs": [],
   "source": [
    "from kasearch import AlignSequences, SearchDB, PrepareDB"
   ]
  },
  {
   "cell_type": "markdown",
   "id": "892d573e-8b1b-4fa2-8973-db4f40588292",
   "metadata": {
    "id": "892d573e-8b1b-4fa2-8973-db4f40588292"
   },
   "source": [
    "### **Align query sequences**\n",
    "\n",
    "Sequences to search with needs to be aligned to the KA-Search alignment as described in Olsen et al, 2022."
   ]
  },
  {
   "cell_type": "code",
   "execution_count": 2,
   "id": "3422c094-eca4-47bb-a1a7-750daa50f10e",
   "metadata": {
    "id": "3422c094-eca4-47bb-a1a7-750daa50f10e",
    "outputId": "37f19bc6-5b24-4726-f22b-e4dfbbda0a34"
   },
   "outputs": [
    {
     "data": {
      "text/plain": [
       "array([[81, 86, 75,  0, 76, 81, 69, 83, 71, 65,  0, 69, 76, 65, 82, 80,\n",
       "        71, 65, 83, 86, 75, 76, 83, 67, 75, 65, 83, 71, 89, 84, 70,  0,\n",
       "         0,  0,  0,  0,  0,  0,  0,  0, 84, 78, 89, 87, 77, 81,  0, 87,\n",
       "        86, 75, 81,  0, 82,  0, 80,  0, 71,  0, 81,  0,  0, 71,  0, 76,\n",
       "        68,  0, 87, 73, 71, 65, 73, 89, 80, 71,  0,  0,  0,  0,  0,  0,\n",
       "         0,  0,  0,  0,  0, 68, 71, 78, 84, 82, 89,  0,  0, 84,  0,  0,\n",
       "        72,  0,  0, 75, 70,  0,  0, 75,  0,  0,  0, 71, 75, 65, 84, 76,\n",
       "        84, 65,  0, 68,  0,  0,  0, 75,  0, 83,  0,  0, 83, 83,  0,  0,\n",
       "         0,  0, 84,  0, 65, 89, 77, 81, 76, 83, 83, 76, 65, 83,  0, 69,\n",
       "        68, 83, 71, 86, 89, 89, 67, 65, 82, 71, 69, 71, 78,  0,  0,  0,\n",
       "         0,  0,  0,  0,  0,  0,  0,  0,  0,  0,  0,  0,  0,  0,  0,  0,\n",
       "         0,  0,  0,  0,  0,  0, 89, 65, 87, 70, 65, 89, 87, 71,  0, 81,\n",
       "        71, 84, 84, 86, 84, 86, 83, 83],\n",
       "       [81, 86, 81,  0, 76, 75, 69, 83, 71, 80,  0, 71, 76, 86, 65, 80,\n",
       "        83, 81, 83, 76, 83, 73, 84, 67, 84, 86, 83, 71, 70, 83, 76,  0,\n",
       "         0,  0,  0,  0,  0,  0,  0,  0, 84, 83, 89, 71, 86, 83,  0, 87,\n",
       "        86, 82, 81,  0, 80,  0, 80,  0, 71,  0, 75,  0,  0, 71,  0, 76,\n",
       "        69,  0, 87, 76, 71, 86, 73, 87, 71, 68,  0,  0,  0,  0,  0,  0,\n",
       "         0,  0,  0,  0,  0,  0, 71, 83, 84, 78, 89,  0,  0, 72,  0,  0,\n",
       "        83,  0,  0, 65, 76,  0,  0, 73,  0,  0,  0, 83, 82, 76, 83, 73,\n",
       "        83, 75,  0, 69,  0,  0,  0, 78,  0, 83,  0,  0, 75, 83,  0,  0,\n",
       "         0,  0, 81,  0, 86, 70, 76, 75, 76, 78, 83, 76, 81, 84,  0, 68,\n",
       "        68, 84, 65, 84, 89, 89, 67, 65, 75, 80, 71,  0,  0,  0,  0,  0,\n",
       "         0,  0,  0,  0,  0,  0,  0,  0,  0,  0,  0,  0,  0,  0,  0,  0,\n",
       "         0,  0,  0,  0,  0,  0,  0,  0,  0, 71, 68, 89, 87, 71,  0, 81,\n",
       "        71, 84, 83, 86, 84, 86, 83, 83]], dtype=int8)"
      ]
     },
     "execution_count": 2,
     "metadata": {},
     "output_type": "execute_result"
    }
   ],
   "source": [
    "raw_queries = [\n",
    "    'QVKLQESGAELARPGASVKLSCKASGYTFTNYWMQWVKQRPGQGLDWIGAIYPGDGNTRYTHKFKGKATLTADKSSSTAYMQLSSLASEDSGVYYCARGEGNYAWFAYWGQGTTVTVSS',\n",
    "    'QVQLKESGPGLVAPSQSLSITCTVSGFSLTSYGVSWVRQPPGKGLEWLGVIWGDGSTNYHSALISRLSISKENSKSQVFLKLNSLQTDDTATYYCAKPGGDYWGQGTSVTVSS',\n",
    "]\n",
    "\n",
    "aligned_seqs = AlignSequences(allowed_species=['Human', 'Mouse'], # Species to use for numbering (human and mouse is default).\n",
    "                              n_jobs=1                            # Allocated number for jobs/threads for the search.\n",
    "                             )(raw_queries)                       # Sequences as strings to align.\n",
    "aligned_seqs"
   ]
  },
  {
   "cell_type": "markdown",
   "id": "6d561d1b-4473-48d3-8967-99635a6652e2",
   "metadata": {
    "id": "6d561d1b-4473-48d3-8967-99635a6652e2"
   },
   "source": [
    "### Canonical alignment\n",
    "The unique positions allowed in the canonical alignment can be viewed with the following "
   ]
  },
  {
   "cell_type": "code",
   "execution_count": 3,
   "id": "3218bc2e-a918-41bf-b9b1-a8e55d81251a",
   "metadata": {
    "id": "3218bc2e-a918-41bf-b9b1-a8e55d81251a",
    "outputId": "c93169da-6de9-49d3-f465-0d241337ce01"
   },
   "outputs": [
    {
     "name": "stdout",
     "output_type": "stream",
     "text": [
      "['1 ', '2 ', '3 ', '3A', '4 ', '5 ', '6 ', '7 ', '8 ', '9 ', '10 ', '11 ', '12 ', '13 ', '14 ', '15 ', '16 ', '17 ', '18 ', '19 ', '20 ', '21 ', '22 ', '23 ', '24 ', '25 ', '26 ', '27 ', '28 ', '29 ', '30 ', '31 ', '32 ', '32A', '32B', '33C', '33B', '33A', '33 ', '34 ', '35 ', '36 ', '37 ', '38 ', '39 ', '40 ', '40A', '41 ', '42 ', '43 ', '44 ', '44A', '45 ', '45A', '46 ', '46A', '47 ', '47A', '48 ', '48A', '48B', '49 ', '49A', '50 ', '51 ', '51A', '52 ', '53 ', '54 ', '55 ', '56 ', '57 ', '58 ', '59 ', '60 ', '60A', '60B', '60C', '60D', '61E', '61D', '61C', '61B', '61A', '61 ', '62 ', '63 ', '64 ', '65 ', '66 ', '67 ', '67A', '67B', '68 ', '68A', '68B', '69 ', '69A', '69B', '70 ', '71 ', '71A', '71B', '72 ', '73 ', '73A', '73B', '74 ', '75 ', '76 ', '77 ', '78 ', '79 ', '80 ', '80A', '81 ', '81A', '81B', '81C', '82 ', '82A', '83 ', '83A', '83B', '84 ', '85 ', '85A', '85B', '85C', '85D', '86 ', '86A', '87 ', '88 ', '89 ', '90 ', '91 ', '92 ', '93 ', '94 ', '95 ', '96 ', '96A', '97 ', '98 ', '99 ', '100 ', '101 ', '102 ', '103 ', '104 ', '105 ', '106 ', '107 ', '108 ', '109 ', '110 ', '111 ', '111A', '111B', '111C', '111D', '111E', '111F', '111G', '111H', '111I', '111J', '111K', '111L', '112L', '112K', '112J', '112I', '112H', '112G', '112F', '112E', '112D', '112C', '112B', '112A', '112 ', '113 ', '114 ', '115 ', '116 ', '117 ', '118 ', '119 ', '119A', '120 ', '121 ', '122 ', '123 ', '124 ', '125 ', '126 ', '127 ', '128 ']\n"
     ]
    }
   ],
   "source": [
    "from kasearch import canonical_numbering\n",
    "print(canonical_numbering)"
   ]
  },
  {
   "cell_type": "markdown",
   "id": "45f8cd27-90b7-48af-83ed-06412c802d11",
   "metadata": {
    "id": "45f8cd27-90b7-48af-83ed-06412c802d11"
   },
   "source": [
    "--------------\n",
    "### **Initiate search class**\n",
    "\n",
    "#### Database to search against\n",
    "- If no database path is given, a small OAS version will be downloaded to search against.\n",
    "- The full version of OAS can be downloaded here ().\n",
    "- You can also give it the path for a custom database to search against. (See below for how to create a custom database).\n",
    "- You can place the custom database in the OAS folder to have KA-Search search against both databases.\n",
    "\n",
    "#### Regions to search with\n",
    "- Default regions are the whole chain, CDRs or CDR3.\n",
    "- User-defined regions can be added, as seen with the paratope search below.\n",
    "- For each region, the search can either be based on exact length match or not.\n",
    "- For a more specific search, the search can be focused on a specific chain and species."
   ]
  },
  {
   "cell_type": "code",
   "execution_count": 4,
   "id": "a017dfcb-57cf-403f-8fba-441412638b63",
   "metadata": {
    "id": "a017dfcb-57cf-403f-8fba-441412638b63"
   },
   "outputs": [],
   "source": [
    "paratope = [\"107 \", \"108 \",\"111C\", \"114 \",\"115 \"]"
   ]
  },
  {
   "cell_type": "code",
   "execution_count": 5,
   "id": "23231856-1b3d-4b30-9c61-74a972fc7340",
   "metadata": {
    "id": "23231856-1b3d-4b30-9c61-74a972fc7340"
   },
   "outputs": [],
   "source": [
    "searchdb = SearchDB(\n",
    "    database_path='oas-aligned-tiny',   # Path to your database. Default will be to download a small prepared version of OAS.\n",
    "    allowed_chain='Heavy',         # Search against a specific chain. Default is any chain.\n",
    "    allowed_species='Human',       # Search against a specific species. Default is any species.\n",
    "    regions=['whole', 'cdrs', 'cdr3', paratope], # Regions to search with.\n",
    "    length_matched=[False, True, True, True],    # Whether to search with length match or not.\n",
    ")"
   ]
  },
  {
   "cell_type": "markdown",
   "id": "4792402c-509e-42da-983b-cde0f3548b0b",
   "metadata": {
    "id": "4792402c-509e-42da-983b-cde0f3548b0b"
   },
   "source": [
    "-----------\n",
    "### **Run search**\n",
    "\n",
    "A search takes ~23min per sequence against all of OAS and ~2min per sequence against the small OAS.\n",
    "\n",
    "To specify the number of closest similar sequences to keep, you can change the keep_best_n parameter."
   ]
  },
  {
   "cell_type": "code",
   "execution_count": 6,
   "id": "074ce657-63f2-49e5-aa89-03667b332db7",
   "metadata": {
    "id": "074ce657-63f2-49e5-aa89-03667b332db7",
    "outputId": "8d780046-9eb0-4e45-ea32-4f18a990c61a"
   },
   "outputs": [
    {
     "name": "stdout",
     "output_type": "stream",
     "text": [
      "CPU times: user 49.9 s, sys: 24.1 s, total: 1min 14s\n",
      "Wall time: 17.4 s\n"
     ]
    }
   ],
   "source": [
    "%%time \n",
    "searchdb.search(aligned_seqs,   # Input can be a single or multiple aligned sequences at a time.\n",
    "                keep_best_n=5,  # You can define how many most similar sequences to return\n",
    "            )"
   ]
  },
  {
   "cell_type": "markdown",
   "id": "a8f03f7f-3660-4c50-bf6a-7815ecb5966e",
   "metadata": {
    "id": "a8f03f7f-3660-4c50-bf6a-7815ecb5966e"
   },
   "source": [
    "### Get N best identities\n",
    "\n",
    "Identities of the most similar sequence for each of the regions can be fetched from the object with the bellow command."
   ]
  },
  {
   "cell_type": "code",
   "execution_count": 7,
   "id": "5594fb40-8e73-4fe4-abf3-210d2a5a136b",
   "metadata": {
    "id": "5594fb40-8e73-4fe4-abf3-210d2a5a136b",
    "outputId": "873106ae-766a-422c-e07d-0d0585285252"
   },
   "outputs": [
    {
     "data": {
      "text/plain": [
       "array([[[0.90378153, 0.78571427, 0.8333333 , 1.        ],\n",
       "        [0.8983696 , 0.75      , 0.8333333 , 1.        ],\n",
       "        [0.89311516, 0.75      , 0.75      , 1.        ],\n",
       "        [0.8925946 , 0.75      , 0.75      , 1.        ],\n",
       "        [0.8907563 , 0.71428573, 0.75      , 1.        ]],\n",
       "\n",
       "       [[0.91817904, 0.8636364 , 0.85714287, 1.        ],\n",
       "        [0.91069317, 0.77272725, 0.85714287, 1.        ],\n",
       "        [0.90951705, 0.77272725, 0.85714287, 1.        ],\n",
       "        [0.9026549 , 0.72727275, 0.85714287, 1.        ],\n",
       "        [0.90085495, 0.72727275, 0.85714287, 1.        ]]], dtype=float32)"
      ]
     },
     "execution_count": 7,
     "metadata": {},
     "output_type": "execute_result"
    }
   ],
   "source": [
    "searchdb.current_best_identities"
   ]
  },
  {
   "cell_type": "markdown",
   "id": "55cd9816-07a4-4ad1-8cba-19e830d70fd8",
   "metadata": {
    "id": "55cd9816-07a4-4ad1-8cba-19e830d70fd8"
   },
   "source": [
    "---------\n",
    "## Extract the meta data from matched sequences\n",
    "\n",
    "Using the get_meta function, the meta data for all matched sequences for each query and region can be extracted as seen below.\n",
    "\n",
    "Zero (0) is the first query or the first region in the list when initiating the search class. \n",
    "\n",
    "NB: The column \"sequence_alignment_aa\" holds the antibody sequence."
   ]
  },
  {
   "cell_type": "code",
   "execution_count": 8,
   "id": "733289bf-138b-4f0e-95b1-ae8620449270",
   "metadata": {
    "id": "733289bf-138b-4f0e-95b1-ae8620449270",
    "outputId": "c1c4f23a-e010-4958-df7f-eb9d3e39bdb2"
   },
   "outputs": [
    {
     "data": {
      "text/html": [
       "<div>\n",
       "<style scoped>\n",
       "    .dataframe tbody tr th:only-of-type {\n",
       "        vertical-align: middle;\n",
       "    }\n",
       "\n",
       "    .dataframe tbody tr th {\n",
       "        vertical-align: top;\n",
       "    }\n",
       "\n",
       "    .dataframe thead th {\n",
       "        text-align: right;\n",
       "    }\n",
       "</style>\n",
       "<table border=\"1\" class=\"dataframe\">\n",
       "  <thead>\n",
       "    <tr style=\"text-align: right;\">\n",
       "      <th></th>\n",
       "      <th>sequence</th>\n",
       "      <th>locus</th>\n",
       "      <th>stop_codon</th>\n",
       "      <th>vj_in_frame</th>\n",
       "      <th>v_frameshift</th>\n",
       "      <th>productive</th>\n",
       "      <th>rev_comp</th>\n",
       "      <th>complete_vdj</th>\n",
       "      <th>v_call</th>\n",
       "      <th>d_call</th>\n",
       "      <th>...</th>\n",
       "      <th>Longitudinal</th>\n",
       "      <th>Age</th>\n",
       "      <th>Disease</th>\n",
       "      <th>Subject</th>\n",
       "      <th>Vaccine</th>\n",
       "      <th>Chain</th>\n",
       "      <th>Unique sequences</th>\n",
       "      <th>Total sequences</th>\n",
       "      <th>Isotype</th>\n",
       "      <th>Identity</th>\n",
       "    </tr>\n",
       "  </thead>\n",
       "  <tbody>\n",
       "    <tr>\n",
       "      <th>0</th>\n",
       "      <td>GAAACAACCTATGATCAGTGTCCTCTCTACACAGTCCCTGACGACA...</td>\n",
       "      <td>H</td>\n",
       "      <td>F</td>\n",
       "      <td>T</td>\n",
       "      <td>F</td>\n",
       "      <td>T</td>\n",
       "      <td>F</td>\n",
       "      <td>F</td>\n",
       "      <td>IGHV1-46*01</td>\n",
       "      <td>IGHD3-16*01</td>\n",
       "      <td>...</td>\n",
       "      <td>no</td>\n",
       "      <td>no</td>\n",
       "      <td>POEMS</td>\n",
       "      <td>Patient_12</td>\n",
       "      <td>None</td>\n",
       "      <td>Heavy</td>\n",
       "      <td>21060</td>\n",
       "      <td>37905</td>\n",
       "      <td>Bulk</td>\n",
       "      <td>0.903782</td>\n",
       "    </tr>\n",
       "    <tr>\n",
       "      <th>1</th>\n",
       "      <td>GGCATATGATCAGTAACCTCTTCACAGTCACTGAAAACACTGACTC...</td>\n",
       "      <td>H</td>\n",
       "      <td>F</td>\n",
       "      <td>T</td>\n",
       "      <td>F</td>\n",
       "      <td>T</td>\n",
       "      <td>F</td>\n",
       "      <td>F</td>\n",
       "      <td>IGHV1-46*01</td>\n",
       "      <td>IGHD5-12*01</td>\n",
       "      <td>...</td>\n",
       "      <td>no</td>\n",
       "      <td>no</td>\n",
       "      <td>POEMS</td>\n",
       "      <td>Patient_12</td>\n",
       "      <td>None</td>\n",
       "      <td>Heavy</td>\n",
       "      <td>21060</td>\n",
       "      <td>37905</td>\n",
       "      <td>Bulk</td>\n",
       "      <td>0.898370</td>\n",
       "    </tr>\n",
       "    <tr>\n",
       "      <th>2</th>\n",
       "      <td>GGCATATGATCAGTAACCTCTTCACAGTCACTGAAAACACTGACTC...</td>\n",
       "      <td>H</td>\n",
       "      <td>F</td>\n",
       "      <td>T</td>\n",
       "      <td>F</td>\n",
       "      <td>T</td>\n",
       "      <td>F</td>\n",
       "      <td>F</td>\n",
       "      <td>IGHV1-46*01</td>\n",
       "      <td>IGHD3-9*01</td>\n",
       "      <td>...</td>\n",
       "      <td>no</td>\n",
       "      <td>no</td>\n",
       "      <td>POEMS</td>\n",
       "      <td>Patient_12</td>\n",
       "      <td>None</td>\n",
       "      <td>Heavy</td>\n",
       "      <td>21060</td>\n",
       "      <td>37905</td>\n",
       "      <td>Bulk</td>\n",
       "      <td>0.893115</td>\n",
       "    </tr>\n",
       "    <tr>\n",
       "      <th>3</th>\n",
       "      <td>GACAGTCACTGAAAACACTGACTCTAATCATGGAATGTAACTGGAT...</td>\n",
       "      <td>H</td>\n",
       "      <td>F</td>\n",
       "      <td>T</td>\n",
       "      <td>F</td>\n",
       "      <td>T</td>\n",
       "      <td>F</td>\n",
       "      <td>T</td>\n",
       "      <td>IGHV1-46*01</td>\n",
       "      <td>IGHD5-12*01</td>\n",
       "      <td>...</td>\n",
       "      <td>no</td>\n",
       "      <td>no</td>\n",
       "      <td>POEMS</td>\n",
       "      <td>Patient_12</td>\n",
       "      <td>None</td>\n",
       "      <td>Heavy</td>\n",
       "      <td>21060</td>\n",
       "      <td>37905</td>\n",
       "      <td>Bulk</td>\n",
       "      <td>0.892595</td>\n",
       "    </tr>\n",
       "    <tr>\n",
       "      <th>4</th>\n",
       "      <td>GGCATATGATCAGTAACCTCTTCACAGTCACTGAAAACACTGACTC...</td>\n",
       "      <td>H</td>\n",
       "      <td>F</td>\n",
       "      <td>T</td>\n",
       "      <td>F</td>\n",
       "      <td>T</td>\n",
       "      <td>F</td>\n",
       "      <td>F</td>\n",
       "      <td>IGHV1-46*01</td>\n",
       "      <td>IGHD3-3*01</td>\n",
       "      <td>...</td>\n",
       "      <td>no</td>\n",
       "      <td>no</td>\n",
       "      <td>POEMS</td>\n",
       "      <td>Patient_12</td>\n",
       "      <td>None</td>\n",
       "      <td>Heavy</td>\n",
       "      <td>21060</td>\n",
       "      <td>37905</td>\n",
       "      <td>Bulk</td>\n",
       "      <td>0.890756</td>\n",
       "    </tr>\n",
       "  </tbody>\n",
       "</table>\n",
       "<p>5 rows × 113 columns</p>\n",
       "</div>"
      ],
      "text/plain": [
       "                                            sequence locus stop_codon  \\\n",
       "0  GAAACAACCTATGATCAGTGTCCTCTCTACACAGTCCCTGACGACA...     H          F   \n",
       "1  GGCATATGATCAGTAACCTCTTCACAGTCACTGAAAACACTGACTC...     H          F   \n",
       "2  GGCATATGATCAGTAACCTCTTCACAGTCACTGAAAACACTGACTC...     H          F   \n",
       "3  GACAGTCACTGAAAACACTGACTCTAATCATGGAATGTAACTGGAT...     H          F   \n",
       "4  GGCATATGATCAGTAACCTCTTCACAGTCACTGAAAACACTGACTC...     H          F   \n",
       "\n",
       "  vj_in_frame v_frameshift productive rev_comp complete_vdj       v_call  \\\n",
       "0           T            F          T        F            F  IGHV1-46*01   \n",
       "1           T            F          T        F            F  IGHV1-46*01   \n",
       "2           T            F          T        F            F  IGHV1-46*01   \n",
       "3           T            F          T        F            T  IGHV1-46*01   \n",
       "4           T            F          T        F            F  IGHV1-46*01   \n",
       "\n",
       "        d_call  ... Longitudinal Age Disease     Subject Vaccine  Chain  \\\n",
       "0  IGHD3-16*01  ...           no  no   POEMS  Patient_12    None  Heavy   \n",
       "1  IGHD5-12*01  ...           no  no   POEMS  Patient_12    None  Heavy   \n",
       "2   IGHD3-9*01  ...           no  no   POEMS  Patient_12    None  Heavy   \n",
       "3  IGHD5-12*01  ...           no  no   POEMS  Patient_12    None  Heavy   \n",
       "4   IGHD3-3*01  ...           no  no   POEMS  Patient_12    None  Heavy   \n",
       "\n",
       "   Unique sequences  Total sequences  Isotype  Identity  \n",
       "0             21060            37905     Bulk  0.903782  \n",
       "1             21060            37905     Bulk  0.898370  \n",
       "2             21060            37905     Bulk  0.893115  \n",
       "3             21060            37905     Bulk  0.892595  \n",
       "4             21060            37905     Bulk  0.890756  \n",
       "\n",
       "[5 rows x 113 columns]"
      ]
     },
     "execution_count": 8,
     "metadata": {},
     "output_type": "execute_result"
    }
   ],
   "source": [
    "n_best_sequences = searchdb.get_meta(n_query = 0,          # Which query to extract meta data from\n",
    "                                     n_region = 0,         # Which region to extract meta data from\n",
    "                                     n_sequences = 'all',  # Number of sequences to extract (default is all, which is keep_best_n)\n",
    "                                     n_jobs=10             # Allocated number for jobs/threads for the extraction\n",
    "                                    )\n",
    "n_best_sequences"
   ]
  },
  {
   "cell_type": "code",
   "execution_count": 9,
   "id": "346cd1d0-1544-47d8-af74-228299c00dcb",
   "metadata": {
    "id": "346cd1d0-1544-47d8-af74-228299c00dcb",
    "outputId": "c2ea3cd7-ecb8-4e99-bcb5-d1ee37ecae95"
   },
   "outputs": [
    {
     "data": {
      "text/plain": [
       "array(['QVQLQQSGAELARPGASVKLSCKASGYTFTSYWMQWVKQRPGQGLEWIGAIYPGDGDTRYTQKFKGKATLTADKSSSTAYMQLSSLASEDSAVYYCARGEPRYDYAWFAYWGQGTLVTVS',\n",
       "       'QVQLQQSGAELARPGASVKLSCKASGYTFTSYWMQWVKQRPGQGLEWIGAIYPGDGDTRYTQKFKGKATLTADKSSSTAYMQLSSLASEDSAVYYCARGPATAWFAYWGQGTLVTVS',\n",
       "       'QVQLQQSGAELARPGASVKLSCKASGYTFTSYWMQWVKQRPGQGLEWIGAIYPGDGDTRYTQKFKGKATLTADKSSSTAYMQLSSLASEDSAVYYCARSAWFAYWGQGTLVTVS',\n",
       "       'QVQLQQSGAELARPGASVKLSCKASGYTFTSYWMQWVKQRPGQGLEWIGAIYPGDGDTRYTQKFKGKATLTADKSSSTAYMQLSSLASEDSAVYYCARGGYWGQGTTLTVSS',\n",
       "       'QVQLQQSGAELARPGASVKLSCKASGYTFTSYWMQWVKQRPGQGLEWIGAIYPGDGDTRYTQKFKGKATLTADKSSSTAYMQLSSLASEDSAVYYCARGGLRRGAWFAYWGQGTLVTVS'],\n",
       "      dtype=object)"
      ]
     },
     "execution_count": 9,
     "metadata": {},
     "output_type": "execute_result"
    }
   ],
   "source": [
    "n_best_sequences.sequence_alignment_aa.values"
   ]
  },
  {
   "cell_type": "markdown",
   "id": "9ee5b315-111d-4a01-919a-841b0b48b0f8",
   "metadata": {
    "id": "9ee5b315-111d-4a01-919a-841b0b48b0f8"
   },
   "source": [
    "----------\n",
    "## Create custom database\n",
    "\n",
    "\n",
    "To create your own database you first need to create a csv file in the OAS format. For an example file, look at data/custom-data-example.csv. This file consists of a dictionary containing the metadata in the first line and then rows of the individual sequences afterwards. Only the Species and Chain is strictly needed in the metadata, and only the amino acids sequence of the antibodies is required for each antibody sequence.\n",
    "\n",
    "### 1. Format your data into OAS files"
   ]
  },
  {
   "cell_type": "code",
   "execution_count": 2,
   "id": "c4f1c344-0f04-4bef-a458-13862596d797",
   "metadata": {
    "id": "c4f1c344-0f04-4bef-a458-13862596d797"
   },
   "outputs": [],
   "source": [
    "import json, os, shutil\n",
    "import pandas as pd"
   ]
  },
  {
   "cell_type": "code",
   "execution_count": 3,
   "id": "851ae00e-a5ed-472b-b3a5-01bc8c92267e",
   "metadata": {
    "id": "851ae00e-a5ed-472b-b3a5-01bc8c92267e"
   },
   "outputs": [],
   "source": [
    "custom_data_file = \"custom-data-examples.csv\"\n",
    "\n",
    "seq_df = pd.DataFrame([\n",
    "    [\"EVQLVESGGGLAKPGGSLRLHCAASGFAFSSYWMNWVRQAPGKRLEWVSAINLGGGLTYYAASVKGRFTISRDNSKNTLSLQMNSLRAEDTAVYYCATDYCSSTYCSPVGDYWGQGVLVTVSS\"],\n",
    "    [\"EVQLVQSGAEVKRPGESLKISCKTSGYSFTSYWISWVRQMPGKGLEWMGAIDPSDSDTRYNPSFQGQVTISADKSISTAYLQWSRLKASDTATYYCAIKKYCTGSGCRRWYFDLWGPGT\"],\n",
    "    ['QVQLQQSGAELARPGASVKLSCKASGYTFTSYWMQWVKQRPGQGLEWIGAIYPGDGDTRYTQKFKGKATLTADKSSSTAYMQLSSLASEDSAVYYCARGEPRYDYAWFAYWGQGTLVTVS'],\n",
    "    ['QVQLQQSGAELARPGASVKLSCKASGYTFTSYWMQWVKQRPGQGLEWIGAIYPGDGDTRYTQKFKGKATLTADKSSSTAYMQLSSLASEDSAVYYCARGPATAWFAYWGQGTLVTVS'],\n",
    "    ['QVQLQQSGAELARPGASVKLSCKASGYTFTSYWMQWVKQRPGQGLEWIGAIYPGDGDTRYTQKFKGKATLTADKSSSTAYMQLSSLASEDSAVYYCARSAWFAYWGQGTLVTVS'],\n",
    "    ['QVQLQQSGAELARPGASVKLSCKASGYTFTSYWMQWVKQRPGQGLEWIGAIYPGDGDTRYTQKFKGKATLTADKSSSTAYMQLSSLASEDSAVYYCARGGYWGQGTTLTVSS'],\n",
    "    ['QVQLQQSGAELARPGASVKLSCKASGYTFTSYWMQWVKQRPGQGLEWIGAIYPGDGDTRYTQKFKGKATLTADKSSSTAYMQLSSLASEDSAVYYCARGGLRRGAWFAYWGQGTLVTVS']\n",
    "], columns = ['heavy_sequences'])\n",
    "meta_data = pd.Series(name=json.dumps({\"Species\":\"Human\", \"Chain\":\"Heavy\"}), dtype='object')\n",
    "\n",
    "meta_data.to_csv(custom_data_file, index=False)\n",
    "seq_df.to_csv(custom_data_file, index=False, mode='a')"
   ]
  },
  {
   "cell_type": "markdown",
   "id": "486c8742-e8e4-4d69-b500-4e9b3b34d8ab",
   "metadata": {
    "id": "486c8742-e8e4-4d69-b500-4e9b3b34d8ab"
   },
   "source": [
    "### 2. Turn your OAS formatted files into a custom database\n",
    "\n",
    "After creating all the files you want to include in the new database, you can run the following code to create the database.\n",
    "\n",
    "**NB:** Each csv file needs to be moved to the 'extra_data' folder, for extraction of meta data"
   ]
  },
  {
   "cell_type": "code",
   "execution_count": 4,
   "id": "ba6748d2-5282-4770-b089-1d3e6172e4e2",
   "metadata": {
    "id": "ba6748d2-5282-4770-b089-1d3e6172e4e2"
   },
   "outputs": [],
   "source": [
    "path_to_custom_db = \"my_kasearch_db\"\n",
    "many_custom_data_files = [custom_data_file]"
   ]
  },
  {
   "cell_type": "code",
   "execution_count": 5,
   "id": "d0e929c4-191c-47dd-990c-f646f031841e",
   "metadata": {
    "id": "d0e929c4-191c-47dd-990c-f646f031841e",
    "outputId": "228d760b-877b-4547-aa2f-3a69139a4cb4"
   },
   "outputs": [
    {
     "name": "stdout",
     "output_type": "stream",
     "text": [
      "243 ms ± 0 ns per loop (mean ± std. dev. of 1 run, 1 loop each)\n"
     ]
    }
   ],
   "source": [
    "%%timeit -n 1 -r 1\n",
    "\n",
    "customDB = PrepareDB(db_path=path_to_custom_db, n_jobs=2, from_scratch=True)\n",
    "\n",
    "for num, data_file in enumerate(many_custom_data_files):\n",
    "    \n",
    "    customDB.prepare_sequences(\n",
    "        data_file,\n",
    "        file_id=num, \n",
    "        chain='Heavy', \n",
    "        species='Human',\n",
    "        seq_column_name = 'heavy_sequences',\n",
    "    )\n",
    "    shutil.copy(data_file, os.path.join(path_to_custom_db, 'extra_data'))\n",
    "    \n",
    "customDB.finalize_prepared_files()"
   ]
  },
  {
   "cell_type": "markdown",
   "id": "dbf8a980-c639-4850-add9-15f045810e48",
   "metadata": {
    "id": "dbf8a980-c639-4850-add9-15f045810e48"
   },
   "source": [
    "### 3. Initiate the search class with your custom database\n"
   ]
  },
  {
   "cell_type": "code",
   "execution_count": 25,
   "id": "a39722cf-b564-4038-b6ac-09560ac30b15",
   "metadata": {
    "id": "a39722cf-b564-4038-b6ac-09560ac30b15",
    "outputId": "dd93d1f2-528d-4c88-d5da-14462bf0220f"
   },
   "outputs": [
    {
     "data": {
      "text/html": [
       "<div>\n",
       "<style scoped>\n",
       "    .dataframe tbody tr th:only-of-type {\n",
       "        vertical-align: middle;\n",
       "    }\n",
       "\n",
       "    .dataframe tbody tr th {\n",
       "        vertical-align: top;\n",
       "    }\n",
       "\n",
       "    .dataframe thead th {\n",
       "        text-align: right;\n",
       "    }\n",
       "</style>\n",
       "<table border=\"1\" class=\"dataframe\">\n",
       "  <thead>\n",
       "    <tr style=\"text-align: right;\">\n",
       "      <th></th>\n",
       "      <th>heavy_sequences</th>\n",
       "      <th>Species</th>\n",
       "      <th>Chain</th>\n",
       "      <th>Identity</th>\n",
       "    </tr>\n",
       "  </thead>\n",
       "  <tbody>\n",
       "    <tr>\n",
       "      <th>0</th>\n",
       "      <td>QVQLQQSGAELARPGASVKLSCKASGYTFTSYWMQWVKQRPGQGLE...</td>\n",
       "      <td>Human</td>\n",
       "      <td>Heavy</td>\n",
       "      <td>0.628099</td>\n",
       "    </tr>\n",
       "    <tr>\n",
       "      <th>1</th>\n",
       "      <td>QVQLQQSGAELARPGASVKLSCKASGYTFTSYWMQWVKQRPGQGLE...</td>\n",
       "      <td>Human</td>\n",
       "      <td>Heavy</td>\n",
       "      <td>0.619835</td>\n",
       "    </tr>\n",
       "    <tr>\n",
       "      <th>2</th>\n",
       "      <td>QVQLQQSGAELARPGASVKLSCKASGYTFTSYWMQWVKQRPGQGLE...</td>\n",
       "      <td>Human</td>\n",
       "      <td>Heavy</td>\n",
       "      <td>0.619835</td>\n",
       "    </tr>\n",
       "    <tr>\n",
       "      <th>3</th>\n",
       "      <td>QVQLQQSGAELARPGASVKLSCKASGYTFTSYWMQWVKQRPGQGLE...</td>\n",
       "      <td>Human</td>\n",
       "      <td>Heavy</td>\n",
       "      <td>0.619835</td>\n",
       "    </tr>\n",
       "    <tr>\n",
       "      <th>4</th>\n",
       "      <td>QVQLQQSGAELARPGASVKLSCKASGYTFTSYWMQWVKQRPGQGLE...</td>\n",
       "      <td>Human</td>\n",
       "      <td>Heavy</td>\n",
       "      <td>0.603306</td>\n",
       "    </tr>\n",
       "    <tr>\n",
       "      <th>5</th>\n",
       "      <td>EVQLVESGGGLAKPGGSLRLHCAASGFAFSSYWMNWVRQAPGKRLE...</td>\n",
       "      <td>Human</td>\n",
       "      <td>Heavy</td>\n",
       "      <td>0.504065</td>\n",
       "    </tr>\n",
       "    <tr>\n",
       "      <th>6</th>\n",
       "      <td>EVQLVQSGAEVKRPGESLKISCKTSGYSFTSYWISWVRQMPGKGLE...</td>\n",
       "      <td>Human</td>\n",
       "      <td>Heavy</td>\n",
       "      <td>0.496000</td>\n",
       "    </tr>\n",
       "  </tbody>\n",
       "</table>\n",
       "</div>"
      ],
      "text/plain": [
       "                                     heavy_sequences Species  Chain  Identity\n",
       "0  QVQLQQSGAELARPGASVKLSCKASGYTFTSYWMQWVKQRPGQGLE...   Human  Heavy  0.628099\n",
       "1  QVQLQQSGAELARPGASVKLSCKASGYTFTSYWMQWVKQRPGQGLE...   Human  Heavy  0.619835\n",
       "2  QVQLQQSGAELARPGASVKLSCKASGYTFTSYWMQWVKQRPGQGLE...   Human  Heavy  0.619835\n",
       "3  QVQLQQSGAELARPGASVKLSCKASGYTFTSYWMQWVKQRPGQGLE...   Human  Heavy  0.619835\n",
       "4  QVQLQQSGAELARPGASVKLSCKASGYTFTSYWMQWVKQRPGQGLE...   Human  Heavy  0.603306\n",
       "5  EVQLVESGGGLAKPGGSLRLHCAASGFAFSSYWMNWVRQAPGKRLE...   Human  Heavy  0.504065\n",
       "6  EVQLVQSGAEVKRPGESLKISCKTSGYSFTSYWISWVRQMPGKGLE...   Human  Heavy  0.496000"
      ]
     },
     "execution_count": 25,
     "metadata": {},
     "output_type": "execute_result"
    }
   ],
   "source": [
    "from kasearch import EasySearch\n",
    "\n",
    "raw_queries = [\n",
    "    'VKLLEQSGAEVKKPGASVKVSCKASGYSFTSYGLHWVRQAPGQRLEWMGWISAGTGNTKYSQKFRGRVTFTRDTSATTAYMGLSSLRPEDTAVYYCARDPYGGGKSEFDYWGQGTLVTVSS',\n",
    "]\n",
    "\n",
    "results = EasySearch(\n",
    "    raw_queries, \n",
    "    keep_best_n=10,\n",
    "    database_path=path_to_custom_db, \n",
    "    allowed_chain='Any', \n",
    "    allowed_species='Any',\n",
    "    regions=['whole'],\n",
    "    length_matched=[False],\n",
    ")\n",
    "results"
   ]
  }
 ],
 "metadata": {
  "colab": {
   "collapsed_sections": [
    "80a3a137-e247-4024-9682-b62ebde3acbb"
   ],
   "include_colab_link": true,
   "machine_shape": "hm",
   "provenance": []
  },
  "gpuClass": "standard",
  "kernelspec": {
   "display_name": "Python [conda env:kasearch] *",
   "language": "python",
   "name": "conda-env-kasearch-py"
  },
  "language_info": {
   "codemirror_mode": {
    "name": "ipython",
    "version": 3
   },
   "file_extension": ".py",
   "mimetype": "text/x-python",
   "name": "python",
   "nbconvert_exporter": "python",
   "pygments_lexer": "ipython3",
   "version": "3.8.19"
  }
 },
 "nbformat": 4,
 "nbformat_minor": 5
}
