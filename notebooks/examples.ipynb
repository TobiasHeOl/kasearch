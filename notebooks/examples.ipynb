{
 "cells": [
  {
   "cell_type": "markdown",
   "id": "71eefa29-b4ee-4295-874f-fb3d396a693a",
   "metadata": {
    "tags": []
   },
   "source": [
    "## **Quick and easy use of KA-Search**\n",
    "\n",
    "For an easy search without much configuration, use the EasySearch module. This module only allows you to run a single query at a time on a single region. For running more queries and searching for more regions simultaneously, look at using KA-Search with more configuration."
   ]
  },
  {
   "cell_type": "code",
   "execution_count": 1,
   "id": "db4a7ec3-b082-4733-92c9-2d02cc232876",
   "metadata": {},
   "outputs": [],
   "source": [
    "from kasearch import EasySearch"
   ]
  },
  {
   "cell_type": "code",
   "execution_count": 2,
   "id": "f8259154-2026-492e-9734-f6634ff121a6",
   "metadata": {},
   "outputs": [
    {
     "data": {
      "text/html": [
       "<div>\n",
       "<style scoped>\n",
       "    .dataframe tbody tr th:only-of-type {\n",
       "        vertical-align: middle;\n",
       "    }\n",
       "\n",
       "    .dataframe tbody tr th {\n",
       "        vertical-align: top;\n",
       "    }\n",
       "\n",
       "    .dataframe thead th {\n",
       "        text-align: right;\n",
       "    }\n",
       "</style>\n",
       "<table border=\"1\" class=\"dataframe\">\n",
       "  <thead>\n",
       "    <tr style=\"text-align: right;\">\n",
       "      <th></th>\n",
       "      <th>sequence</th>\n",
       "      <th>locus</th>\n",
       "      <th>stop_codon</th>\n",
       "      <th>vj_in_frame</th>\n",
       "      <th>v_frameshift</th>\n",
       "      <th>productive</th>\n",
       "      <th>rev_comp</th>\n",
       "      <th>complete_vdj</th>\n",
       "      <th>v_call</th>\n",
       "      <th>d_call</th>\n",
       "      <th>...</th>\n",
       "      <th>Longitudinal</th>\n",
       "      <th>Age</th>\n",
       "      <th>Disease</th>\n",
       "      <th>Subject</th>\n",
       "      <th>Vaccine</th>\n",
       "      <th>Chain</th>\n",
       "      <th>Unique sequences</th>\n",
       "      <th>Total sequences</th>\n",
       "      <th>Isotype</th>\n",
       "      <th>Identity</th>\n",
       "    </tr>\n",
       "  </thead>\n",
       "  <tbody>\n",
       "    <tr>\n",
       "      <th>0</th>\n",
       "      <td>ACCTATGAAACACCTGTGGTTCTTCCTCCTCCTGGTGGCAGCTCCC...</td>\n",
       "      <td>H</td>\n",
       "      <td>F</td>\n",
       "      <td>T</td>\n",
       "      <td>F</td>\n",
       "      <td>T</td>\n",
       "      <td>T</td>\n",
       "      <td>T</td>\n",
       "      <td>IGHV4-4*02</td>\n",
       "      <td>IGHD2-2*01</td>\n",
       "      <td>...</td>\n",
       "      <td>no</td>\n",
       "      <td>22</td>\n",
       "      <td>None</td>\n",
       "      <td>Subject-HIP2</td>\n",
       "      <td>None</td>\n",
       "      <td>Heavy</td>\n",
       "      <td>4474418</td>\n",
       "      <td>21326500</td>\n",
       "      <td>IGHM</td>\n",
       "      <td>0.8125</td>\n",
       "    </tr>\n",
       "    <tr>\n",
       "      <th>1</th>\n",
       "      <td>ACATGGTTCCTCTTTGTGGTGGCAGCAGCTACAGGTGTCCAGTCCC...</td>\n",
       "      <td>H</td>\n",
       "      <td>F</td>\n",
       "      <td>T</td>\n",
       "      <td>F</td>\n",
       "      <td>T</td>\n",
       "      <td>T</td>\n",
       "      <td>T</td>\n",
       "      <td>IGHV1-69*12</td>\n",
       "      <td>IGHD2-2*01</td>\n",
       "      <td>...</td>\n",
       "      <td>no</td>\n",
       "      <td>29</td>\n",
       "      <td>None</td>\n",
       "      <td>Subject-HIP3</td>\n",
       "      <td>None</td>\n",
       "      <td>Heavy</td>\n",
       "      <td>4384076</td>\n",
       "      <td>25225992</td>\n",
       "      <td>IGHM</td>\n",
       "      <td>0.8125</td>\n",
       "    </tr>\n",
       "    <tr>\n",
       "      <th>2</th>\n",
       "      <td>GGTGGGAGCAGCAACAAGAGCCCACTCCCAGGTGCAGCTGGTGCAA...</td>\n",
       "      <td>H</td>\n",
       "      <td>F</td>\n",
       "      <td>T</td>\n",
       "      <td>F</td>\n",
       "      <td>T</td>\n",
       "      <td>F</td>\n",
       "      <td>T</td>\n",
       "      <td>IGHV7-4-1*02</td>\n",
       "      <td>IGHD2-2*01</td>\n",
       "      <td>...</td>\n",
       "      <td>no</td>\n",
       "      <td>no</td>\n",
       "      <td>None</td>\n",
       "      <td>A030</td>\n",
       "      <td>None</td>\n",
       "      <td>Heavy</td>\n",
       "      <td>174608</td>\n",
       "      <td>821620</td>\n",
       "      <td>IGHM</td>\n",
       "      <td>0.8125</td>\n",
       "    </tr>\n",
       "    <tr>\n",
       "      <th>3</th>\n",
       "      <td>GGGTTTTCCTTGTTGCTATTTTAAAAGGTGTCCAATGTGAGGTGCA...</td>\n",
       "      <td>H</td>\n",
       "      <td>F</td>\n",
       "      <td>T</td>\n",
       "      <td>F</td>\n",
       "      <td>T</td>\n",
       "      <td>F</td>\n",
       "      <td>T</td>\n",
       "      <td>IGHV3-64*01</td>\n",
       "      <td>IGHD2-2*01</td>\n",
       "      <td>...</td>\n",
       "      <td>no</td>\n",
       "      <td>no</td>\n",
       "      <td>None</td>\n",
       "      <td>A007</td>\n",
       "      <td>None</td>\n",
       "      <td>Heavy</td>\n",
       "      <td>265055</td>\n",
       "      <td>1206161</td>\n",
       "      <td>IGHM</td>\n",
       "      <td>0.8125</td>\n",
       "    </tr>\n",
       "    <tr>\n",
       "      <th>4</th>\n",
       "      <td>TGTTCTCTAAGCAGTGGTATCAACGCAGAGTACATGGGGATGCTTT...</td>\n",
       "      <td>H</td>\n",
       "      <td>F</td>\n",
       "      <td>T</td>\n",
       "      <td>F</td>\n",
       "      <td>T</td>\n",
       "      <td>T</td>\n",
       "      <td>T</td>\n",
       "      <td>IGHV4-39*01</td>\n",
       "      <td>IGHD2-2*01</td>\n",
       "      <td>...</td>\n",
       "      <td>no</td>\n",
       "      <td>no</td>\n",
       "      <td>None</td>\n",
       "      <td>Subject-CB1g</td>\n",
       "      <td>None</td>\n",
       "      <td>Heavy</td>\n",
       "      <td>11894</td>\n",
       "      <td>25712</td>\n",
       "      <td>IGHG</td>\n",
       "      <td>0.8125</td>\n",
       "    </tr>\n",
       "  </tbody>\n",
       "</table>\n",
       "<p>5 rows × 113 columns</p>\n",
       "</div>"
      ],
      "text/plain": [
       "                                            sequence locus stop_codon  \\\n",
       "0  ACCTATGAAACACCTGTGGTTCTTCCTCCTCCTGGTGGCAGCTCCC...     H          F   \n",
       "1  ACATGGTTCCTCTTTGTGGTGGCAGCAGCTACAGGTGTCCAGTCCC...     H          F   \n",
       "2  GGTGGGAGCAGCAACAAGAGCCCACTCCCAGGTGCAGCTGGTGCAA...     H          F   \n",
       "3  GGGTTTTCCTTGTTGCTATTTTAAAAGGTGTCCAATGTGAGGTGCA...     H          F   \n",
       "4  TGTTCTCTAAGCAGTGGTATCAACGCAGAGTACATGGGGATGCTTT...     H          F   \n",
       "\n",
       "  vj_in_frame v_frameshift productive rev_comp complete_vdj        v_call  \\\n",
       "0           T            F          T        T            T    IGHV4-4*02   \n",
       "1           T            F          T        T            T   IGHV1-69*12   \n",
       "2           T            F          T        F            T  IGHV7-4-1*02   \n",
       "3           T            F          T        F            T   IGHV3-64*01   \n",
       "4           T            F          T        T            T   IGHV4-39*01   \n",
       "\n",
       "       d_call  ... Longitudinal Age Disease       Subject Vaccine  Chain  \\\n",
       "0  IGHD2-2*01  ...           no  22    None  Subject-HIP2    None  Heavy   \n",
       "1  IGHD2-2*01  ...           no  29    None  Subject-HIP3    None  Heavy   \n",
       "2  IGHD2-2*01  ...           no  no    None          A030    None  Heavy   \n",
       "3  IGHD2-2*01  ...           no  no    None          A007    None  Heavy   \n",
       "4  IGHD2-2*01  ...           no  no    None  Subject-CB1g    None  Heavy   \n",
       "\n",
       "   Unique sequences  Total sequences  Isotype  Identity  \n",
       "0           4474418         21326500     IGHM    0.8125  \n",
       "1           4384076         25225992     IGHM    0.8125  \n",
       "2            174608           821620     IGHM    0.8125  \n",
       "3            265055          1206161     IGHM    0.8125  \n",
       "4             11894            25712     IGHG    0.8125  \n",
       "\n",
       "[5 rows x 113 columns]"
      ]
     },
     "execution_count": 2,
     "metadata": {},
     "output_type": "execute_result"
    }
   ],
   "source": [
    "query = 'QVQLVQSGPEVKKPGTSVKVSCKASGFTFTTSAVQWVRQARGQRLEWIGWIVVGSGNTNYAQKFQERVTITRDMSTTTAYMELSSLRSEDTAVYFCAAPHCNSTSCYDAFDIWGQGTMVTVSS'\n",
    "\n",
    "results = EasySearch(\n",
    "    query,                         # Single sequence to search\n",
    "    keep_best_n=5,                 # Number of closest matches to return\n",
    "    #database_path                 # Database to search. If not set, oas-aligned-tiny will be automatically downloaded and used\n",
    "    allowed_chain='Any',           # Chains to search, either 'Heavy', 'Light' or 'Any'\n",
    "    allowed_species='Any',         # Species to search\n",
    "    regions=['cdr3'],              # Region to search, either 'whole', 'cdrs', 'cdr3' or a user-specified region\n",
    "    length_matched=[True],         # Restrict the search to antibodies with the same number of amino acids in the selected region\n",
    "    n_jobs=10,                     # Number of threads to use (jax will use any available)\n",
    "    include_ends=True,\n",
    ")\n",
    "\n",
    "results"
   ]
  },
  {
   "cell_type": "markdown",
   "id": "80a3a137-e247-4024-9682-b62ebde3acbb",
   "metadata": {},
   "source": [
    "------------------\n",
    "## **KA-Search with more configuration**"
   ]
  },
  {
   "cell_type": "code",
   "execution_count": 3,
   "id": "b974ce8a-61d0-447f-8901-bc984d80fcd5",
   "metadata": {},
   "outputs": [],
   "source": [
    "from kasearch import AlignSequences, SearchDB, PrepareDB"
   ]
  },
  {
   "cell_type": "markdown",
   "id": "892d573e-8b1b-4fa2-8973-db4f40588292",
   "metadata": {},
   "source": [
    "### **Align query sequences**\n",
    "\n",
    "Sequences to search with needs to be aligned to the KA-Search alignment as described in Olsen et al, 2022."
   ]
  },
  {
   "cell_type": "code",
   "execution_count": 4,
   "id": "3422c094-eca4-47bb-a1a7-750daa50f10e",
   "metadata": {
    "tags": []
   },
   "outputs": [
    {
     "data": {
      "text/plain": [
       "array([[81, 86, 81,  0, 76, 86, 81, 83, 71, 80,  0, 69, 86, 75, 75, 80,\n",
       "        71, 84, 83, 86, 75, 86, 83, 67, 75, 65, 83, 71, 70, 84, 70,  0,\n",
       "         0,  0,  0,  0,  0,  0,  0,  0, 84, 84, 83, 65, 86, 81,  0, 87,\n",
       "        86, 82, 81,  0, 65,  0, 82,  0, 71,  0, 81,  0,  0, 82,  0, 76,\n",
       "        69,  0, 87, 73, 71, 87, 73, 86, 86, 71,  0,  0,  0,  0,  0,  0,\n",
       "         0,  0,  0,  0,  0, 83, 71, 78, 84, 78, 89,  0,  0, 65,  0,  0,\n",
       "        81,  0,  0, 75, 70,  0,  0, 81,  0,  0,  0, 69, 82, 86, 84, 73,\n",
       "        84, 82,  0, 68,  0,  0,  0, 77,  0, 83,  0,  0, 84, 84,  0,  0,\n",
       "         0,  0, 84,  0, 65, 89, 77, 69, 76, 83, 83, 76, 82, 83,  0, 69,\n",
       "        68, 84, 65, 86, 89, 70, 67, 65, 65, 80, 72, 67, 78, 83, 84,  0,\n",
       "         0,  0,  0,  0,  0,  0,  0,  0,  0,  0,  0,  0,  0,  0,  0,  0,\n",
       "         0,  0,  0,  0, 83, 67, 89, 68, 65, 70, 68, 73, 87, 71,  0, 81,\n",
       "        71, 84, 77, 86, 84, 86, 83, 83],\n",
       "       [69, 86, 81,  0, 76, 86, 81, 83, 71, 65,  0, 69, 86, 75, 75, 80,\n",
       "        71, 65, 83, 86, 75, 73, 83, 67, 75, 65, 83, 71, 89, 84, 70,  0,\n",
       "         0,  0,  0,  0,  0,  0,  0,  0, 83, 69, 89, 70, 76, 72,  0, 87,\n",
       "        86, 82, 81,  0, 65,  0, 80,  0, 71,  0, 84,  0,  0, 71,  0, 76,\n",
       "        69,  0, 87, 86, 71, 76, 86, 68, 80, 69,  0,  0,  0,  0,  0,  0,\n",
       "         0,  0,  0,  0,  0, 68, 71, 69, 86, 73, 89,  0,  0, 84,  0,  0,\n",
       "        81,  0,  0, 75, 70,  0,  0, 81,  0,  0,  0, 68, 82, 86, 84, 73,\n",
       "        84, 65,  0, 68,  0,  0,  0, 84,  0, 83,  0,  0, 84, 68,  0,  0,\n",
       "         0,  0, 84,  0, 65, 89, 77, 69, 81, 82, 83, 76, 82, 83,  0, 69,\n",
       "        78, 84, 65, 70, 89, 89, 89, 65, 84, 71, 82, 67, 83, 71, 83,  0,\n",
       "         0,  0,  0,  0,  0,  0,  0,  0,  0,  0,  0,  0,  0,  0,  0,  0,\n",
       "         0,  0,  0,  0, 86, 67, 81, 80, 69, 70, 68, 89, 87, 71,  0, 81,\n",
       "        71, 86, 76, 86, 84, 86, 83, 83]], dtype=int8)"
      ]
     },
     "execution_count": 4,
     "metadata": {},
     "output_type": "execute_result"
    }
   ],
   "source": [
    "raw_queries = [\n",
    "    'QVQLVQSGPEVKKPGTSVKVSCKASGFTFTTSAVQWVRQARGQRLEWIGWIVVGSGNTNYAQKFQERVTITRDMSTTTAYMELSSLRSEDTAVYFCAAPHCNSTSCYDAFDIWGQGTMVTVSS',\n",
    "    'EVQLVQSGAEVKKPGASVKISCKASGYTFSEYFLHWVRQAPGTGLEWVGLVDPEDGEVIYTQKFQDRVTITADTSTDTAYMEQRSLRSENTAFYYYATGRCSGSVCQPEFDYWGQGVLVTVSS'\n",
    "]\n",
    "\n",
    "aligned_seqs = AlignSequences(\n",
    "    allowed_species=['Human', 'Mouse'], # Species to use for numbering (human and mouse is default).\n",
    "    n_jobs=1                            # Allocated number for jobs/threads for the search.\n",
    ")(raw_queries)                          # Sequences as strings to align.\n",
    "\n",
    "aligned_seqs"
   ]
  },
  {
   "cell_type": "markdown",
   "id": "6d561d1b-4473-48d3-8967-99635a6652e2",
   "metadata": {},
   "source": [
    "### Canonical alignment\n",
    "The unique positions allowed in the canonical alignment can be viewed with the following "
   ]
  },
  {
   "cell_type": "code",
   "execution_count": 5,
   "id": "3218bc2e-a918-41bf-b9b1-a8e55d81251a",
   "metadata": {},
   "outputs": [
    {
     "name": "stdout",
     "output_type": "stream",
     "text": [
      "['1 ', '2 ', '3 ', '3A', '4 ', '5 ', '6 ', '7 ', '8 ', '9 ', '10 ', '11 ', '12 ', '13 ', '14 ', '15 ', '16 ', '17 ', '18 ', '19 ', '20 ', '21 ', '22 ', '23 ', '24 ', '25 ', '26 ', '27 ', '28 ', '29 ', '30 ', '31 ', '32 ', '32A', '32B', '33C', '33B', '33A', '33 ', '34 ', '35 ', '36 ', '37 ', '38 ', '39 ', '40 ', '40A', '41 ', '42 ', '43 ', '44 ', '44A', '45 ', '45A', '46 ', '46A', '47 ', '47A', '48 ', '48A', '48B', '49 ', '49A', '50 ', '51 ', '51A', '52 ', '53 ', '54 ', '55 ', '56 ', '57 ', '58 ', '59 ', '60 ', '60A', '60B', '60C', '60D', '61E', '61D', '61C', '61B', '61A', '61 ', '62 ', '63 ', '64 ', '65 ', '66 ', '67 ', '67A', '67B', '68 ', '68A', '68B', '69 ', '69A', '69B', '70 ', '71 ', '71A', '71B', '72 ', '73 ', '73A', '73B', '74 ', '75 ', '76 ', '77 ', '78 ', '79 ', '80 ', '80A', '81 ', '81A', '81B', '81C', '82 ', '82A', '83 ', '83A', '83B', '84 ', '85 ', '85A', '85B', '85C', '85D', '86 ', '86A', '87 ', '88 ', '89 ', '90 ', '91 ', '92 ', '93 ', '94 ', '95 ', '96 ', '96A', '97 ', '98 ', '99 ', '100 ', '101 ', '102 ', '103 ', '104 ', '105 ', '106 ', '107 ', '108 ', '109 ', '110 ', '111 ', '111A', '111B', '111C', '111D', '111E', '111F', '111G', '111H', '111I', '111J', '111K', '111L', '112L', '112K', '112J', '112I', '112H', '112G', '112F', '112E', '112D', '112C', '112B', '112A', '112 ', '113 ', '114 ', '115 ', '116 ', '117 ', '118 ', '119 ', '119A', '120 ', '121 ', '122 ', '123 ', '124 ', '125 ', '126 ', '127 ', '128 ']\n"
     ]
    }
   ],
   "source": [
    "from kasearch import canonical_numbering\n",
    "print(canonical_numbering)"
   ]
  },
  {
   "cell_type": "markdown",
   "id": "45f8cd27-90b7-48af-83ed-06412c802d11",
   "metadata": {},
   "source": [
    "--------------\n",
    "### **Initiate search class**\n",
    "\n",
    "#### Database to search against\n",
    "- If no database path is given, a small OAS version will be downloaded to search against.\n",
    "- The full version of OAS can be downloaded here ().\n",
    "- You can also give it the path for a custom database to search against. (See below for how to create a custom database).\n",
    "- You can place the custom database in the OAS folder to have KA-Search search against both databases.\n",
    "\n",
    "#### Regions to search with\n",
    "- Default regions are the whole chain, CDRs or CDR3.\n",
    "- User-defined regions can be added, as seen with the paratope search below.\n",
    "- For each region, the search can either be based on exact length match or not.\n",
    "- For a more specific search, the search can be focused on a specific chain and species."
   ]
  },
  {
   "cell_type": "code",
   "execution_count": 6,
   "id": "a017dfcb-57cf-403f-8fba-441412638b63",
   "metadata": {},
   "outputs": [],
   "source": [
    "paratope = [\"107 \", \"108 \",\"111C\", \"114 \",\"115 \"]"
   ]
  },
  {
   "cell_type": "code",
   "execution_count": 7,
   "id": "23231856-1b3d-4b30-9c61-74a972fc7340",
   "metadata": {},
   "outputs": [],
   "source": [
    "searchdb = SearchDB(\n",
    "    #database_path,                # Database to search. If not set, oas-aligned-tiny will be automatically downloaded and used\n",
    "    allowed_chain='Heavy',         # Search against a specific chain. Default is any chain.\n",
    "    allowed_species='Human',       # Search against a specific species. Default is any species.\n",
    "    regions=['whole', 'cdrs', 'cdr3', paratope], # Regions to search with.\n",
    "    length_matched=[False, True, True, True],    # Whether to search with length match or not.\n",
    ")"
   ]
  },
  {
   "cell_type": "markdown",
   "id": "4792402c-509e-42da-983b-cde0f3548b0b",
   "metadata": {},
   "source": [
    "-----------\n",
    "### **Run search**\n",
    "\n",
    "A search takes ~23min per sequence against all of OAS and ~2min per sequence against the small OAS.\n",
    "\n",
    "To specify the number of closest similar sequences to keep, you can change the keep_best_n parameter."
   ]
  },
  {
   "cell_type": "code",
   "execution_count": 8,
   "id": "074ce657-63f2-49e5-aa89-03667b332db7",
   "metadata": {},
   "outputs": [
    {
     "name": "stdout",
     "output_type": "stream",
     "text": [
      "CPU times: user 31.5 s, sys: 3.82 s, total: 35.3 s\n",
      "Wall time: 12.2 s\n"
     ]
    }
   ],
   "source": [
    "%%time \n",
    "searchdb.search(\n",
    "    aligned_seqs,   # Input can be a single or multiple aligned sequences at a time.\n",
    "    keep_best_n=5,  # You can define how many most similar sequences to return\n",
    ")"
   ]
  },
  {
   "cell_type": "markdown",
   "id": "a8f03f7f-3660-4c50-bf6a-7815ecb5966e",
   "metadata": {},
   "source": [
    "### Get N best identities\n",
    "\n",
    "Identities of the most similar sequence for each of the regions can be fetched from the object with the bellow command."
   ]
  },
  {
   "cell_type": "code",
   "execution_count": 9,
   "id": "5594fb40-8e73-4fe4-abf3-210d2a5a136b",
   "metadata": {
    "tags": []
   },
   "outputs": [
    {
     "data": {
      "text/plain": [
       "array([[[0.93495935, 0.84375   , 0.8125    , 1.        ],\n",
       "        [0.91935486, 0.8125    , 0.8125    , 1.        ],\n",
       "        [0.91935486, 0.78125   , 0.8125    , 1.        ],\n",
       "        [0.9186992 , 0.78125   , 0.8125    , 1.        ],\n",
       "        [0.9186992 , 0.78125   , 0.8125    , 1.        ]],\n",
       "\n",
       "       [[0.796748  , 0.6875    , 0.6875    , 1.        ],\n",
       "        [0.796748  , 0.6875    , 0.6875    , 1.        ],\n",
       "        [0.796748  , 0.6875    , 0.6875    , 1.        ],\n",
       "        [0.796748  , 0.65625   , 0.6875    , 1.        ],\n",
       "        [0.796748  , 0.65625   , 0.625     , 1.        ]]], dtype=float32)"
      ]
     },
     "execution_count": 9,
     "metadata": {},
     "output_type": "execute_result"
    }
   ],
   "source": [
    "searchdb.current_best_identities"
   ]
  },
  {
   "cell_type": "markdown",
   "id": "55cd9816-07a4-4ad1-8cba-19e830d70fd8",
   "metadata": {},
   "source": [
    "---------\n",
    "## Extract the meta data from matched sequences\n",
    "\n",
    "Using the get_meta function, the meta data for all matched sequences for each query and region can be extracted as seen below.\n",
    "\n",
    "Zero (0) is the first query or the first region in the list when initiating the search class. \n",
    "\n",
    "NB: The column \"sequence_alignment_aa\" holds the antibody sequence."
   ]
  },
  {
   "cell_type": "code",
   "execution_count": null,
   "id": "733289bf-138b-4f0e-95b1-ae8620449270",
   "metadata": {},
   "outputs": [],
   "source": [
    "n_best_sequences = searchdb.get_meta(\n",
    "    n_query = 0,          # Which query to extract meta data from\n",
    "    n_region = 0,         # Which region to extract meta data from\n",
    "    n_sequences = 10,     # Number of sequences to extract (default is all, which is keep_best_n)\n",
    "    n_jobs = 10           # Allocated number for jobs/threads for the extraction\n",
    ")\n",
    "n_best_sequences"
   ]
  },
  {
   "cell_type": "code",
   "execution_count": null,
   "id": "346cd1d0-1544-47d8-af74-228299c00dcb",
   "metadata": {},
   "outputs": [],
   "source": [
    "n_best_sequences.sequence_alignment_aa.values"
   ]
  },
  {
   "cell_type": "markdown",
   "id": "9ee5b315-111d-4a01-919a-841b0b48b0f8",
   "metadata": {},
   "source": [
    "----------\n",
    "## Create custom database\n",
    "\n",
    "\n",
    "To create your own database you first need to create a csv file in the OAS format. For an example file, look at data/custom-data-example.csv. This file consists of a dictionary containing the metadata in the first line and then rows of the individual sequences afterwards. Only the Species and Chain is strictly needed in the metadata, and only the amino acids sequence of the antibodies is required for each antibody sequence.\n",
    "\n",
    "### 1. Format your data into OAS files"
   ]
  },
  {
   "cell_type": "code",
   "execution_count": null,
   "id": "c4f1c344-0f04-4bef-a458-13862596d797",
   "metadata": {},
   "outputs": [],
   "source": [
    "import json, os, shutil\n",
    "import pandas as pd"
   ]
  },
  {
   "cell_type": "code",
   "execution_count": null,
   "id": "851ae00e-a5ed-472b-b3a5-01bc8c92267e",
   "metadata": {},
   "outputs": [],
   "source": [
    "custom_data_file = \"custom-data-examples.csv\"\n",
    "\n",
    "seq_df = pd.DataFrame([\n",
    "    [\"EVQLVESGGGLAKPGGSLRLHCAASGFAFSSYWMNWVRQAPGKRLEWVSAINLGGGLTYYAASVKGRFTISRDNSKNTLSLQMNSLRAEDTAVYYCATDYCSSTYCSPVGDYWGQGVLVTVSS\"],\n",
    "    [\"EVQLVQSGAEVKRPGESLKISCKTSGYSFTSYWISWVRQMPGKGLEWMGAIDPSDSDTRYNPSFQGQVTISADKSISTAYLQWSRLKASDTATYYCAIKKYCTGSGCRRWYFDLWGPGT\"],\n",
    "    ['QVQLQQSGAELARPGASVKLSCKASGYTFTSYWMQWVKQRPGQGLEWIGAIYPGDGDTRYTQKFKGKATLTADKSSSTAYMQLSSLASEDSAVYYCARGEPRYDYAWFAYWGQGTLVTVS'],\n",
    "    ['QVQLQQSGAELARPGASVKLSCKASGYTFTSYWMQWVKQRPGQGLEWIGAIYPGDGDTRYTQKFKGKATLTADKSSSTAYMQLSSLASEDSAVYYCARGPATAWFAYWGQGTLVTVS'],\n",
    "    ['QVQLQQSGAELARPGASVKLSCKASGYTFTSYWMQWVKQRPGQGLEWIGAIYPGDGDTRYTQKFKGKATLTADKSSSTAYMQLSSLASEDSAVYYCARSAWFAYWGQGTLVTVS'],\n",
    "    ['QVQLQQSGAELARPGASVKLSCKASGYTFTSYWMQWVKQRPGQGLEWIGAIYPGDGDTRYTQKFKGKATLTADKSSSTAYMQLSSLASEDSAVYYCARGGYWGQGTTLTVSS'],\n",
    "    ['QVQLQQSGAELARPGASVKLSCKASGYTFTSYWMQWVKQRPGQGLEWIGAIYPGDGDTRYTQKFKGKATLTADKSSSTAYMQLSSLASEDSAVYYCARGGLRRGAWFAYWGQGTLVTVS']\n",
    "], columns = ['heavy_sequences'])\n",
    "meta_data = pd.Series(name=json.dumps({\"Species\":\"Human\", \"Chain\":\"Heavy\"}), dtype='object')\n",
    "\n",
    "meta_data.to_csv(custom_data_file, index=False)\n",
    "seq_df.to_csv(custom_data_file, index=False, mode='a')"
   ]
  },
  {
   "cell_type": "markdown",
   "id": "486c8742-e8e4-4d69-b500-4e9b3b34d8ab",
   "metadata": {},
   "source": [
    "### 2. Turn your OAS formatted files into a custom database\n",
    "\n",
    "After creating all the files you want to include in the new database, you can run the following code to create the database.\n",
    "\n",
    "**NB:** Each csv file needs to be moved to the 'extra_data' folder, for extraction of meta data"
   ]
  },
  {
   "cell_type": "code",
   "execution_count": null,
   "id": "ba6748d2-5282-4770-b089-1d3e6172e4e2",
   "metadata": {},
   "outputs": [],
   "source": [
    "path_to_custom_db = \"my_kasearch_db\"\n",
    "many_custom_data_files = [custom_data_file]"
   ]
  },
  {
   "cell_type": "code",
   "execution_count": null,
   "id": "d0e929c4-191c-47dd-990c-f646f031841e",
   "metadata": {},
   "outputs": [],
   "source": [
    "%%timeit -n 1 -r 1\n",
    "\n",
    "customDB = PrepareDB(db_path=path_to_custom_db, n_jobs=2, from_scratch=True)\n",
    "\n",
    "for num, data_file in enumerate(many_custom_data_files):\n",
    "    \n",
    "    customDB.prepare_sequences(\n",
    "        data_file,\n",
    "        file_id=num, \n",
    "        chain='Heavy', \n",
    "        species='Human',\n",
    "        seq_column_name = 'heavy_sequences',\n",
    "    )\n",
    "    shutil.copy(data_file, os.path.join(path_to_custom_db, 'extra_data'))\n",
    "    \n",
    "customDB.finalize_prepared_files()"
   ]
  },
  {
   "cell_type": "markdown",
   "id": "dbf8a980-c639-4850-add9-15f045810e48",
   "metadata": {},
   "source": [
    "### 3. Initiate the search class with your custom database\n"
   ]
  },
  {
   "cell_type": "code",
   "execution_count": null,
   "id": "a39722cf-b564-4038-b6ac-09560ac30b15",
   "metadata": {},
   "outputs": [],
   "source": [
    "raw_queries = [\n",
    "    'VKLLEQSGAEVKKPGASVKVSCKASGYSFTSYGLHWVRQAPGQRLEWMGWISAGTGNTKYSQKFRGRVTFTRDTSATTAYMGLSSLRPEDTAVYYCARDPYGGGKSEFDYWGQGTLVTVSS',\n",
    "]\n",
    "\n",
    "results = EasySearch(\n",
    "    raw_queries, \n",
    "    keep_best_n=10,\n",
    "    database_path=path_to_custom_db, \n",
    "    allowed_chain='Any', \n",
    "    allowed_species='Any',\n",
    "    regions=['cdr3'],\n",
    "    length_matched=[False],\n",
    ")\n",
    "results"
   ]
  }
 ],
 "metadata": {
  "kernelspec": {
   "display_name": "Python [conda env:kasearch] *",
   "language": "python",
   "name": "conda-env-kasearch-py"
  },
  "language_info": {
   "codemirror_mode": {
    "name": "ipython",
    "version": 3
   },
   "file_extension": ".py",
   "mimetype": "text/x-python",
   "name": "python",
   "nbconvert_exporter": "python",
   "pygments_lexer": "ipython3",
   "version": "3.8.19"
  }
 },
 "nbformat": 4,
 "nbformat_minor": 5
}
